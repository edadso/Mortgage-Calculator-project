{
 "cells": [
  {
   "cell_type": "markdown",
   "metadata": {},
   "source": [
    "# MORTGAGE CALCULATOR\n"
   ]
  },
  {
   "cell_type": "code",
   "execution_count": null,
   "metadata": {},
   "outputs": [],
   "source": [
    "# Print \"MORTGAGE CALCULATOR\" to screen using f-string\n",
    "print(f'{\"mortgage calculator\".upper().center(50,\" \")}\\n{\" \"}')\n",
    "\n",
    "# Use the input function to allow users to enter their desired values of choice\n",
    "principal = float(input(\"Enter Principal Amount: $\"))\n",
    "rate = float(input(\"Enter Interest Rate:\"))\n",
    "years = float(input(\"Years to Pay Off Mortgage:\"))\n",
    "\n",
    "# Perform simple mathematical operations and assigned their values to a variable\n",
    "interest = rate/100\n",
    "i = interest/12\n",
    "n = 12*years\n",
    "x = (1+i)**n\n",
    "\n",
    "total_monthly_payment = principal*((i*x)/(x-1))\n",
    "total_interest = (total_monthly_payment*n)-principal\n",
    "total_mortgage_payment = total_interest+principal\n",
    "\n",
    "# Print the specified objects to the screen using f-string\n",
    "print(f'{\" \"}\\nFor a {years}-year mortgage loan of ${principal} at an annual interest rate of {interest}, you pay ${total_monthly_payment:,.2f} monthly')\n",
    "print(f'Total Interest to be Paid for {years} years = ${total_interest:,.2f}')\n",
    "print(f'{\" \"}\\n{55*\"-\"}\\nTotal Amount to be paid for {years} years = ${total_mortgage_payment:,.2f}\\n{55*\"-\"}')"
   ]
  }
 ],
 "metadata": {
  "kernelspec": {
   "display_name": "Python 3",
   "language": "python",
   "name": "python3"
  },
  "language_info": {
   "codemirror_mode": {
    "name": "ipython",
    "version": 3
   },
   "file_extension": ".py",
   "mimetype": "text/x-python",
   "name": "python",
   "nbconvert_exporter": "python",
   "pygments_lexer": "ipython3",
   "version": "3.10.9"
  }
 },
 "nbformat": 4,
 "nbformat_minor": 2
}
